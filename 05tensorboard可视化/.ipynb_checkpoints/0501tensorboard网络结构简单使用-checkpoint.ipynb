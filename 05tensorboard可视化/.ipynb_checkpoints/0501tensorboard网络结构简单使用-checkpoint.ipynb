{
 "cells": [
  {
   "cell_type": "code",
   "execution_count": 1,
   "metadata": {},
   "outputs": [],
   "source": [
    "import tensorflow as tf\n",
    "from tensorflow.examples.tutorials.mnist import input_data\n",
    "import numpy as np"
   ]
  },
  {
   "cell_type": "code",
   "execution_count": 3,
   "metadata": {},
   "outputs": [
    {
     "name": "stdout",
     "output_type": "stream",
     "text": [
      "WARNING:tensorflow:From <ipython-input-3-2eda0239d023>:2: read_data_sets (from tensorflow.contrib.learn.python.learn.datasets.mnist) is deprecated and will be removed in a future version.\n",
      "Instructions for updating:\n",
      "Please use alternatives such as official/mnist/dataset.py from tensorflow/models.\n",
      "WARNING:tensorflow:From /home/ld/anaconda3/envs/tensorflow/lib/python3.6/site-packages/tensorflow/contrib/learn/python/learn/datasets/mnist.py:260: maybe_download (from tensorflow.contrib.learn.python.learn.datasets.base) is deprecated and will be removed in a future version.\n",
      "Instructions for updating:\n",
      "Please write your own downloading logic.\n",
      "WARNING:tensorflow:From /home/ld/anaconda3/envs/tensorflow/lib/python3.6/site-packages/tensorflow/contrib/learn/python/learn/datasets/mnist.py:262: extract_images (from tensorflow.contrib.learn.python.learn.datasets.mnist) is deprecated and will be removed in a future version.\n",
      "Instructions for updating:\n",
      "Please use tf.data to implement this functionality.\n",
      "Extracting MNIST_data/train-images-idx3-ubyte.gz\n",
      "WARNING:tensorflow:From /home/ld/anaconda3/envs/tensorflow/lib/python3.6/site-packages/tensorflow/contrib/learn/python/learn/datasets/mnist.py:267: extract_labels (from tensorflow.contrib.learn.python.learn.datasets.mnist) is deprecated and will be removed in a future version.\n",
      "Instructions for updating:\n",
      "Please use tf.data to implement this functionality.\n",
      "Extracting MNIST_data/train-labels-idx1-ubyte.gz\n",
      "WARNING:tensorflow:From /home/ld/anaconda3/envs/tensorflow/lib/python3.6/site-packages/tensorflow/contrib/learn/python/learn/datasets/mnist.py:110: dense_to_one_hot (from tensorflow.contrib.learn.python.learn.datasets.mnist) is deprecated and will be removed in a future version.\n",
      "Instructions for updating:\n",
      "Please use tf.one_hot on tensors.\n",
      "Extracting MNIST_data/t10k-images-idx3-ubyte.gz\n",
      "Extracting MNIST_data/t10k-labels-idx1-ubyte.gz\n",
      "WARNING:tensorflow:From /home/ld/anaconda3/envs/tensorflow/lib/python3.6/site-packages/tensorflow/contrib/learn/python/learn/datasets/mnist.py:290: DataSet.__init__ (from tensorflow.contrib.learn.python.learn.datasets.mnist) is deprecated and will be removed in a future version.\n",
      "Instructions for updating:\n",
      "Please use alternatives such as official/mnist/dataset.py from tensorflow/models.\n",
      "WARNING:tensorflow:From <ipython-input-3-2eda0239d023>:30: softmax_cross_entropy_with_logits (from tensorflow.python.ops.nn_ops) is deprecated and will be removed in a future version.\n",
      "Instructions for updating:\n",
      "\n",
      "Future major versions of TensorFlow will allow gradients to flow\n",
      "into the labels input on backprop by default.\n",
      "\n",
      "See `tf.nn.softmax_cross_entropy_with_logits_v2`.\n",
      "\n",
      "WARNING:tensorflow:From <ipython-input-3-2eda0239d023>:41: arg_max (from tensorflow.python.ops.gen_math_ops) is deprecated and will be removed in a future version.\n",
      "Instructions for updating:\n",
      "Use `tf.math.argmax` instead\n",
      "Iter: 0, Testing accuracy:0.823800\n"
     ]
    }
   ],
   "source": [
    "#数据载入---有其他方法\n",
    "mnist = input_data.read_data_sets(\"MNIST_data\",one_hot=True) #注意输出标签是one_hot类型\n",
    "\n",
    "#按批次进行计算\n",
    "#设置每个批次大小\n",
    "batch_size = 100\n",
    "#获取批次数量，注意：我们训练时使用的是mnist.train训练集数据\n",
    "n_batch = mnist.train.num_examples // batch_size #注意：//也是除法，返回整数\n",
    "\n",
    "#设置命名空间--输入层\n",
    "with tf.name_scope(\"input\"): #命名空间的使用：https://www.jianshu.com/p/635d95b34e14\n",
    "    #开始定义占位符号\n",
    "    x = tf.placeholder(tf.float32,[None,784],name='x-input') #由于每张图片都是28×28像素，所以每个样本的特征都是784\n",
    "    y = tf.placeholder(tf.float32,[None,10],name='y-input') #是分10类\n",
    "\n",
    "#设置命名空间--输出层\n",
    "with tf.name_scope(\"layer\"):\n",
    "    #开始创建一个神经网络隐藏层L1含有10个激活单元\n",
    "    with tf.name_scope(\"weight\"):\n",
    "        Weight_L1 = tf.Variable(tf.zeros([784,10]),name='w')\n",
    "    with tf.name_scope(\"biases\"):\n",
    "        biases_L1 = tf.Variable(tf.zeros([1,10]),name='b') #对于偏执单元的权重，我们没有必要进行随机初始化\n",
    "    with tf.name_scope(\"wx_plus_b\"):\n",
    "        Wx_plus_b_L1 = tf.matmul(x,Weight_L1)+biases_L1\n",
    "    with tf.name_scope(\"prediction\"):\n",
    "        y_pred = tf.nn.softmax(Wx_plus_b_L1)\n",
    "\n",
    "with tf.name_scope(\"loss\"):\n",
    "    #定义代价函数\n",
    "    loss = tf.reduce_mean(tf.nn.softmax_cross_entropy_with_logits(labels=y,logits=y_pred)) #这里我们使用交叉熵进行处理，使得加快训练速度\n",
    "\n",
    "with tf.name_scope(\"train\"):    \n",
    "    #使用梯度下降法\n",
    "    train_step = tf.train.GradientDescentOptimizer(0.2).minimize(loss)\n",
    "\n",
    "init = tf.global_variables_initializer()\n",
    "\n",
    "with tf.name_scope(\"accuracy\"):\n",
    "    with tf.name_scope(\"correct_prediction\"):\n",
    "        #获取结果存放在bool列表中\n",
    "        correct_prediction = tf.equal(tf.arg_max(y,1),tf.arg_max(y_pred,1)) #注意：arg_max第二个参数是指定坐标信息，因为结果按行存储，所以1\n",
    "    with tf.name_scope(\"accuracy\"):\n",
    "        #根据上面的bool列表，获取准确率\n",
    "        accuracy = tf.reduce_mean(tf.cast(correct_prediction,tf.float32)) #tf.cast格式转换后，求解平均值\n",
    "\n",
    "\n",
    "#开启会话\n",
    "with tf.Session() as sess:\n",
    "    sess.run(init)\n",
    "    writer = tf.summary.FileWriter('logs/',sess.graph)  #Summary用法https://www.cnblogs.com/lyc-seu/p/8647792.html\n",
    "    for iter_cnt in range(1): #整体数据迭代\n",
    "        for batch_cnt in range(n_batch): #小批次数据分批次迭代\n",
    "            batch_xs,batch_ys = mnist.train.next_batch(batch_size) #依照batch_size获取下一批次数据\n",
    "            sess.run(train_step,feed_dict={x:batch_xs,y:batch_ys}) #传入数据，进行训练\n",
    "            \n",
    "        #获取每一次整体数据迭代后的准确率\n",
    "        acc = sess.run(accuracy,feed_dict={x:mnist.test.images,y:mnist.test.labels}) #注意：预测时，我们也要传入数据，并且传入的是测试集数据\n",
    "        print(\"Iter: %d, Testing accuracy:%f\"%(iter_cnt,acc))\n"
   ]
  },
  {
   "attachments": {},
   "cell_type": "markdown",
   "metadata": {},
   "source": []
  }
 ],
 "metadata": {
  "kernelspec": {
   "display_name": "Python 3",
   "language": "python",
   "name": "python3"
  },
  "language_info": {
   "codemirror_mode": {
    "name": "ipython",
    "version": 3
   },
   "file_extension": ".py",
   "mimetype": "text/x-python",
   "name": "python",
   "nbconvert_exporter": "python",
   "pygments_lexer": "ipython3",
   "version": "3.6.2"
  }
 },
 "nbformat": 4,
 "nbformat_minor": 4
}
