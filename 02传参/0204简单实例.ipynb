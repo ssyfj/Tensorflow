{
 "cells": [
  {
   "cell_type": "code",
   "execution_count": 3,
   "metadata": {},
   "outputs": [],
   "source": [
    "import tensorflow as tf\n",
    "import numpy as np"
   ]
  },
  {
   "cell_type": "code",
   "execution_count": 4,
   "metadata": {},
   "outputs": [
    {
     "name": "stdout",
     "output_type": "stream",
     "text": [
      "0 [0.048758548, 0.09859269, 0.015873753]\n",
      "20 [0.09944482, 0.20027424, 2.2846612e-08]\n",
      "40 [0.09965734, 0.20016937, 8.705379e-09]\n",
      "60 [0.09978849, 0.20010455, 3.3169116e-09]\n",
      "80 [0.09986942, 0.20006454, 1.2640804e-09]\n",
      "100 [0.099919386, 0.20003985, 4.8181936e-10]\n",
      "120 [0.09995023, 0.2000246, 1.8364425e-10]\n",
      "140 [0.09996928, 0.20001519, 6.995887e-11]\n",
      "160 [0.09998103, 0.20000938, 2.6680642e-11]\n",
      "180 [0.09998828, 0.20000578, 1.0170804e-11]\n",
      "200 [0.09999277, 0.20000358, 3.8822457e-12]\n"
     ]
    }
   ],
   "source": [
    "#使用numpy生产100个随机点（模拟样本）\n",
    "x_data = np.random.rand(100)\n",
    "y_data = x_data*0.1+0.2\n",
    "\n",
    "#构造一个线性模型\n",
    "b = tf.Variable(0.)\n",
    "k = tf.Variable(0.)\n",
    "y = k*x_data+b\n",
    "\n",
    "#使用tensorflow内部方法，进行拟合\n",
    "#代价函数的实现参考线性回归https://www.cnblogs.com/ssyfj/p/12783022.html\n",
    "loss = tf.reduce_mean(tf.square(y-y_data)) #square求平方，reduce_mean函数用于计算张量tensor沿着指定的数轴（tensor的某一维度）上的的平均值，主要用作降维或者计算tensor（图像）的平均值\n",
    "\n",
    "#定义一个梯度下降法来进行训练的优化器\n",
    "optimizer = tf.train.GradientDescentOptimizer(0.2)#0.2是学习率，步长\n",
    "\n",
    "#最小化代价函数\n",
    "train = optimizer.minimize(loss)\n",
    "\n",
    "init = tf.global_variables_initializer()\n",
    "\n",
    "with tf.Session() as sess:\n",
    "    sess.run(init)\n",
    "    for step in range(201):\n",
    "        sess.run(train)\n",
    "        if step%20 == 0:\n",
    "            print(step,sess.run([k,b,loss]))"
   ]
  },
  {
   "cell_type": "code",
   "execution_count": null,
   "metadata": {},
   "outputs": [],
   "source": []
  }
 ],
 "metadata": {
  "kernelspec": {
   "display_name": "Python 3",
   "language": "python",
   "name": "python3"
  },
  "language_info": {
   "codemirror_mode": {
    "name": "ipython",
    "version": 3
   },
   "file_extension": ".py",
   "mimetype": "text/x-python",
   "name": "python",
   "nbconvert_exporter": "python",
   "pygments_lexer": "ipython3",
   "version": "3.6.2"
  }
 },
 "nbformat": 4,
 "nbformat_minor": 4
}
