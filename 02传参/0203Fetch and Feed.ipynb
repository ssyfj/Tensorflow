{
 "cells": [
  {
   "cell_type": "code",
   "execution_count": 1,
   "metadata": {},
   "outputs": [],
   "source": [
    "import tensorflow as tf"
   ]
  },
  {
   "cell_type": "code",
   "execution_count": 2,
   "metadata": {},
   "outputs": [
    {
     "name": "stdout",
     "output_type": "stream",
     "text": [
      "[35.0, 7.0]\n"
     ]
    }
   ],
   "source": [
    "#Fetch  一个run可以执行多个op\n",
    "input1 = tf.constant(3.0)\n",
    "input2 = tf.constant(4.0)\n",
    "input3 = tf.constant(5.0)\n",
    "\n",
    "add = tf.add(input1,input2)\n",
    "mul = tf.multiply(add,input3)\n",
    "\n",
    "with tf.Session() as sess:\n",
    "    res = sess.run([mul,add])\n",
    "    print(res)"
   ]
  },
  {
   "cell_type": "code",
   "execution_count": 4,
   "metadata": {},
   "outputs": [
    {
     "name": "stdout",
     "output_type": "stream",
     "text": [
      "[80. 99.]\n"
     ]
    }
   ],
   "source": [
    "#Feed 在run中为变量赋值，之前使用占位符\n",
    "input1 = tf.placeholder(tf.float32)#注意：占位符号不止代表一个值，还可以代表这一类值，我们可以传入一个值，也可以传入一个列表...\n",
    "input2 = tf.placeholder(tf.float32)\n",
    "out = tf.multiply(input1,input2)\n",
    "with tf.Session() as sess:\n",
    "    res = sess.run(out,feed_dict={input1:[8.0,9.0],input2:[10.0,11.0]})\n",
    "    print(res)"
   ]
  },
  {
   "cell_type": "code",
   "execution_count": null,
   "metadata": {},
   "outputs": [],
   "source": []
  }
 ],
 "metadata": {
  "kernelspec": {
   "display_name": "Python 3",
   "language": "python",
   "name": "python3"
  },
  "language_info": {
   "codemirror_mode": {
    "name": "ipython",
    "version": 3
   },
   "file_extension": ".py",
   "mimetype": "text/x-python",
   "name": "python",
   "nbconvert_exporter": "python",
   "pygments_lexer": "ipython3",
   "version": "3.6.2"
  }
 },
 "nbformat": 4,
 "nbformat_minor": 4
}
